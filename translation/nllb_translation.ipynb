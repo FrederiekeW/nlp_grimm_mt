{
 "cells": [
  {
   "cell_type": "markdown",
   "metadata": {},
   "source": [
    "\n",
    "## Trying the No Language Left Behind Model"
   ]
  },
  {
   "cell_type": "code",
   "execution_count": 1,
   "metadata": {},
   "outputs": [
    {
     "name": "stdout",
     "output_type": "stream",
     "text": [
      "Defaulting to user installation because normal site-packages is not writeable\n",
      "Collecting transformers\n",
      "  Downloading transformers-4.47.0-py3-none-any.whl.metadata (43 kB)\n",
      "Collecting filelock (from transformers)\n",
      "  Downloading filelock-3.16.1-py3-none-any.whl.metadata (2.9 kB)\n",
      "Collecting huggingface-hub<1.0,>=0.24.0 (from transformers)\n",
      "  Downloading huggingface_hub-0.26.5-py3-none-any.whl.metadata (13 kB)\n",
      "Collecting numpy>=1.17 (from transformers)\n",
      "  Downloading numpy-2.2.0-cp312-cp312-manylinux_2_17_x86_64.manylinux2014_x86_64.whl.metadata (62 kB)\n",
      "Requirement already satisfied: packaging>=20.0 in /home/ucloud/.local/lib/python3.12/site-packages (from transformers) (24.2)\n",
      "Requirement already satisfied: pyyaml>=5.1 in /home/ucloud/.local/lib/python3.12/site-packages (from transformers) (6.0.2)\n",
      "Collecting regex!=2019.12.17 (from transformers)\n",
      "  Downloading regex-2024.11.6-cp312-cp312-manylinux_2_17_x86_64.manylinux2014_x86_64.whl.metadata (40 kB)\n",
      "Requirement already satisfied: requests in /home/ucloud/.local/lib/python3.12/site-packages (from transformers) (2.32.3)\n",
      "Collecting tokenizers<0.22,>=0.21 (from transformers)\n",
      "  Downloading tokenizers-0.21.0-cp39-abi3-manylinux_2_17_x86_64.manylinux2014_x86_64.whl.metadata (6.7 kB)\n",
      "Collecting safetensors>=0.4.1 (from transformers)\n",
      "  Downloading safetensors-0.4.5-cp312-cp312-manylinux_2_17_x86_64.manylinux2014_x86_64.whl.metadata (3.8 kB)\n",
      "Collecting tqdm>=4.27 (from transformers)\n",
      "  Downloading tqdm-4.67.1-py3-none-any.whl.metadata (57 kB)\n",
      "Collecting fsspec>=2023.5.0 (from huggingface-hub<1.0,>=0.24.0->transformers)\n",
      "  Downloading fsspec-2024.10.0-py3-none-any.whl.metadata (11 kB)\n",
      "Collecting typing-extensions>=3.7.4.3 (from huggingface-hub<1.0,>=0.24.0->transformers)\n",
      "  Downloading typing_extensions-4.12.2-py3-none-any.whl.metadata (3.0 kB)\n",
      "Requirement already satisfied: charset-normalizer<4,>=2 in /home/ucloud/.local/lib/python3.12/site-packages (from requests->transformers) (3.4.0)\n",
      "Requirement already satisfied: idna<4,>=2.5 in /home/ucloud/.local/lib/python3.12/site-packages (from requests->transformers) (3.10)\n",
      "Requirement already satisfied: urllib3<3,>=1.21.1 in /home/ucloud/.local/lib/python3.12/site-packages (from requests->transformers) (2.2.3)\n",
      "Requirement already satisfied: certifi>=2017.4.17 in /home/ucloud/.local/lib/python3.12/site-packages (from requests->transformers) (2024.8.30)\n",
      "Downloading transformers-4.47.0-py3-none-any.whl (10.1 MB)\n",
      "\u001b[2K   \u001b[90m━━━━━━━━━━━━━━━━━━━━━━━━━━━━━━━━━━━━━━━━\u001b[0m \u001b[32m10.1/10.1 MB\u001b[0m \u001b[31m34.4 MB/s\u001b[0m eta \u001b[36m0:00:00\u001b[0m00:01\u001b[0m\n",
      "\u001b[?25hDownloading huggingface_hub-0.26.5-py3-none-any.whl (447 kB)\n",
      "Downloading numpy-2.2.0-cp312-cp312-manylinux_2_17_x86_64.manylinux2014_x86_64.whl (16.1 MB)\n",
      "\u001b[2K   \u001b[90m━━━━━━━━━━━━━━━━━━━━━━━━━━━━━━━━━━━━━━━━\u001b[0m \u001b[32m16.1/16.1 MB\u001b[0m \u001b[31m33.4 MB/s\u001b[0m eta \u001b[36m0:00:00\u001b[0m:00:01\u001b[0m\n",
      "\u001b[?25hDownloading regex-2024.11.6-cp312-cp312-manylinux_2_17_x86_64.manylinux2014_x86_64.whl (796 kB)\n",
      "\u001b[2K   \u001b[90m━━━━━━━━━━━━━━━━━━━━━━━━━━━━━━━━━━━━━━━━\u001b[0m \u001b[32m796.9/796.9 kB\u001b[0m \u001b[31m8.3 MB/s\u001b[0m eta \u001b[36m0:00:00\u001b[0m\n",
      "\u001b[?25hDownloading safetensors-0.4.5-cp312-cp312-manylinux_2_17_x86_64.manylinux2014_x86_64.whl (434 kB)\n",
      "Downloading tokenizers-0.21.0-cp39-abi3-manylinux_2_17_x86_64.manylinux2014_x86_64.whl (3.0 MB)\n",
      "\u001b[2K   \u001b[90m━━━━━━━━━━━━━━━━━━━━━━━━━━━━━━━━━━━━━━━━\u001b[0m \u001b[32m3.0/3.0 MB\u001b[0m \u001b[31m16.4 MB/s\u001b[0m eta \u001b[36m0:00:00\u001b[0m\n",
      "\u001b[?25hDownloading tqdm-4.67.1-py3-none-any.whl (78 kB)\n",
      "Downloading filelock-3.16.1-py3-none-any.whl (16 kB)\n",
      "Downloading fsspec-2024.10.0-py3-none-any.whl (179 kB)\n",
      "Downloading typing_extensions-4.12.2-py3-none-any.whl (37 kB)\n",
      "Installing collected packages: typing-extensions, tqdm, safetensors, regex, numpy, fsspec, filelock, huggingface-hub, tokenizers, transformers\n",
      "Successfully installed filelock-3.16.1 fsspec-2024.10.0 huggingface-hub-0.26.5 numpy-2.2.0 regex-2024.11.6 safetensors-0.4.5 tokenizers-0.21.0 tqdm-4.67.1 transformers-4.47.0 typing-extensions-4.12.2\n",
      "Defaulting to user installation because normal site-packages is not writeable\n",
      "Collecting torch\n",
      "  Downloading torch-2.5.1-cp312-cp312-manylinux1_x86_64.whl.metadata (28 kB)\n",
      "Requirement already satisfied: filelock in /home/ucloud/.local/lib/python3.12/site-packages (from torch) (3.16.1)\n",
      "Requirement already satisfied: typing-extensions>=4.8.0 in /home/ucloud/.local/lib/python3.12/site-packages (from torch) (4.12.2)\n",
      "Collecting networkx (from torch)\n",
      "  Downloading networkx-3.4.2-py3-none-any.whl.metadata (6.3 kB)\n",
      "Requirement already satisfied: jinja2 in /home/ucloud/.local/lib/python3.12/site-packages (from torch) (3.1.4)\n",
      "Requirement already satisfied: fsspec in /home/ucloud/.local/lib/python3.12/site-packages (from torch) (2024.10.0)\n",
      "Collecting nvidia-cuda-nvrtc-cu12==12.4.127 (from torch)\n",
      "  Downloading nvidia_cuda_nvrtc_cu12-12.4.127-py3-none-manylinux2014_x86_64.whl.metadata (1.5 kB)\n",
      "Collecting nvidia-cuda-runtime-cu12==12.4.127 (from torch)\n",
      "  Downloading nvidia_cuda_runtime_cu12-12.4.127-py3-none-manylinux2014_x86_64.whl.metadata (1.5 kB)\n",
      "Collecting nvidia-cuda-cupti-cu12==12.4.127 (from torch)\n",
      "  Downloading nvidia_cuda_cupti_cu12-12.4.127-py3-none-manylinux2014_x86_64.whl.metadata (1.6 kB)\n",
      "Collecting nvidia-cudnn-cu12==9.1.0.70 (from torch)\n",
      "  Downloading nvidia_cudnn_cu12-9.1.0.70-py3-none-manylinux2014_x86_64.whl.metadata (1.6 kB)\n",
      "Collecting nvidia-cublas-cu12==12.4.5.8 (from torch)\n",
      "  Downloading nvidia_cublas_cu12-12.4.5.8-py3-none-manylinux2014_x86_64.whl.metadata (1.5 kB)\n",
      "Collecting nvidia-cufft-cu12==11.2.1.3 (from torch)\n",
      "  Downloading nvidia_cufft_cu12-11.2.1.3-py3-none-manylinux2014_x86_64.whl.metadata (1.5 kB)\n",
      "Collecting nvidia-curand-cu12==10.3.5.147 (from torch)\n",
      "  Downloading nvidia_curand_cu12-10.3.5.147-py3-none-manylinux2014_x86_64.whl.metadata (1.5 kB)\n",
      "Collecting nvidia-cusolver-cu12==11.6.1.9 (from torch)\n",
      "  Downloading nvidia_cusolver_cu12-11.6.1.9-py3-none-manylinux2014_x86_64.whl.metadata (1.6 kB)\n",
      "Collecting nvidia-cusparse-cu12==12.3.1.170 (from torch)\n",
      "  Downloading nvidia_cusparse_cu12-12.3.1.170-py3-none-manylinux2014_x86_64.whl.metadata (1.6 kB)\n",
      "Collecting nvidia-nccl-cu12==2.21.5 (from torch)\n",
      "  Downloading nvidia_nccl_cu12-2.21.5-py3-none-manylinux2014_x86_64.whl.metadata (1.8 kB)\n",
      "Collecting nvidia-nvtx-cu12==12.4.127 (from torch)\n",
      "  Downloading nvidia_nvtx_cu12-12.4.127-py3-none-manylinux2014_x86_64.whl.metadata (1.7 kB)\n",
      "Collecting nvidia-nvjitlink-cu12==12.4.127 (from torch)\n",
      "  Downloading nvidia_nvjitlink_cu12-12.4.127-py3-none-manylinux2014_x86_64.whl.metadata (1.5 kB)\n",
      "Collecting triton==3.1.0 (from torch)\n",
      "  Downloading triton-3.1.0-cp312-cp312-manylinux_2_17_x86_64.manylinux2014_x86_64.whl.metadata (1.3 kB)\n",
      "Requirement already satisfied: setuptools in /usr/lib/python3/dist-packages (from torch) (68.1.2)\n",
      "Collecting sympy==1.13.1 (from torch)\n",
      "  Downloading sympy-1.13.1-py3-none-any.whl.metadata (12 kB)\n",
      "Collecting mpmath<1.4,>=1.1.0 (from sympy==1.13.1->torch)\n",
      "  Downloading mpmath-1.3.0-py3-none-any.whl.metadata (8.6 kB)\n",
      "Requirement already satisfied: MarkupSafe>=2.0 in /home/ucloud/.local/lib/python3.12/site-packages (from jinja2->torch) (3.0.2)\n",
      "Downloading torch-2.5.1-cp312-cp312-manylinux1_x86_64.whl (906.4 MB)\n",
      "\u001b[2K   \u001b[90m━━━━━━━━━━━━━━━━━━━━━━━━━━━━━━━━━━━━━━━━\u001b[0m \u001b[32m906.4/906.4 MB\u001b[0m \u001b[31m60.4 MB/s\u001b[0m eta \u001b[36m0:00:00\u001b[0m00:01\u001b[0m00:01\u001b[0m\n",
      "\u001b[?25hDownloading nvidia_cublas_cu12-12.4.5.8-py3-none-manylinux2014_x86_64.whl (363.4 MB)\n",
      "\u001b[2K   \u001b[90m━━━━━━━━━━━━━━━━━━━━━━━━━━━━━━━━━━━━━━━━\u001b[0m \u001b[32m363.4/363.4 MB\u001b[0m \u001b[31m80.9 MB/s\u001b[0m eta \u001b[36m0:00:00\u001b[0m00:01\u001b[0m00:01\u001b[0m\n",
      "\u001b[?25hDownloading nvidia_cuda_cupti_cu12-12.4.127-py3-none-manylinux2014_x86_64.whl (13.8 MB)\n",
      "\u001b[2K   \u001b[90m━━━━━━━━━━━━━━━━━━━━━━━━━━━━━━━━━━━━━━━━\u001b[0m \u001b[32m13.8/13.8 MB\u001b[0m \u001b[31m41.7 MB/s\u001b[0m eta \u001b[36m0:00:00\u001b[0m:00:01\u001b[0m\n",
      "\u001b[?25hDownloading nvidia_cuda_nvrtc_cu12-12.4.127-py3-none-manylinux2014_x86_64.whl (24.6 MB)\n",
      "\u001b[2K   \u001b[90m━━━━━━━━━━━━━━━━━━━━━━━━━━━━━━━━━━━━━━━━\u001b[0m \u001b[32m24.6/24.6 MB\u001b[0m \u001b[31m38.5 MB/s\u001b[0m eta \u001b[36m0:00:00\u001b[0m:00:01\u001b[0m\n",
      "\u001b[?25hDownloading nvidia_cuda_runtime_cu12-12.4.127-py3-none-manylinux2014_x86_64.whl (883 kB)\n",
      "\u001b[2K   \u001b[90m━━━━━━━━━━━━━━━━━━━━━━━━━━━━━━━━━━━━━━━━\u001b[0m \u001b[32m883.7/883.7 kB\u001b[0m \u001b[31m11.5 MB/s\u001b[0m eta \u001b[36m0:00:00\u001b[0m\n",
      "\u001b[?25hDownloading nvidia_cudnn_cu12-9.1.0.70-py3-none-manylinux2014_x86_64.whl (664.8 MB)\n",
      "\u001b[2K   \u001b[90m━━━━━━━━━━━━━━━━━━━━━━━━━━━━━━━━━━━━━━━━\u001b[0m \u001b[32m664.8/664.8 MB\u001b[0m \u001b[31m70.2 MB/s\u001b[0m eta \u001b[36m0:00:00\u001b[0m00:01\u001b[0m00:01\u001b[0m\n",
      "\u001b[?25hDownloading nvidia_cufft_cu12-11.2.1.3-py3-none-manylinux2014_x86_64.whl (211.5 MB)\n",
      "\u001b[2K   \u001b[90m━━━━━━━━━━━━━━━━━━━━━━━━━━━━━━━━━━━━━━━━\u001b[0m \u001b[32m211.5/211.5 MB\u001b[0m \u001b[31m92.1 MB/s\u001b[0m eta \u001b[36m0:00:00\u001b[0m00:01\u001b[0m00:01\u001b[0m\n",
      "\u001b[?25hDownloading nvidia_curand_cu12-10.3.5.147-py3-none-manylinux2014_x86_64.whl (56.3 MB)\n",
      "\u001b[2K   \u001b[90m━━━━━━━━━━━━━━━━━━━━━━━━━━━━━━━━━━━━━━━━\u001b[0m \u001b[32m56.3/56.3 MB\u001b[0m \u001b[31m79.6 MB/s\u001b[0m eta \u001b[36m0:00:00\u001b[0m:00:01\u001b[0m00:01\u001b[0m\n",
      "\u001b[?25hDownloading nvidia_cusolver_cu12-11.6.1.9-py3-none-manylinux2014_x86_64.whl (127.9 MB)\n",
      "\u001b[2K   \u001b[90m━━━━━━━━━━━━━━━━━━━━━━━━━━━━━━━━━━━━━━━━\u001b[0m \u001b[32m127.9/127.9 MB\u001b[0m \u001b[31m59.6 MB/s\u001b[0m eta \u001b[36m0:00:00\u001b[0m00:01\u001b[0m00:01\u001b[0m\n",
      "\u001b[?25hDownloading nvidia_cusparse_cu12-12.3.1.170-py3-none-manylinux2014_x86_64.whl (207.5 MB)\n",
      "\u001b[2K   \u001b[90m━━━━━━━━━━━━━━━━━━━━━━━━━━━━━━━━━━━━━━━━\u001b[0m \u001b[32m207.5/207.5 MB\u001b[0m \u001b[31m80.4 MB/s\u001b[0m eta \u001b[36m0:00:00\u001b[0m00:01\u001b[0m00:01\u001b[0m\n",
      "\u001b[?25hDownloading nvidia_nccl_cu12-2.21.5-py3-none-manylinux2014_x86_64.whl (188.7 MB)\n",
      "\u001b[2K   \u001b[90m━━━━━━━━━━━━━━━━━━━━━━━━━━━━━━━━━━━━━━━━\u001b[0m \u001b[32m188.7/188.7 MB\u001b[0m \u001b[31m84.8 MB/s\u001b[0m eta \u001b[36m0:00:00\u001b[0m00:01\u001b[0m00:01\u001b[0m\n",
      "\u001b[?25hDownloading nvidia_nvjitlink_cu12-12.4.127-py3-none-manylinux2014_x86_64.whl (21.1 MB)\n",
      "\u001b[2K   \u001b[90m━━━━━━━━━━━━━━━━━━━━━━━━━━━━━━━━━━━━━━━━\u001b[0m \u001b[32m21.1/21.1 MB\u001b[0m \u001b[31m37.2 MB/s\u001b[0m eta \u001b[36m0:00:00\u001b[0m00:01\u001b[0m0:01\u001b[0m\n",
      "\u001b[?25hDownloading nvidia_nvtx_cu12-12.4.127-py3-none-manylinux2014_x86_64.whl (99 kB)\n",
      "Downloading sympy-1.13.1-py3-none-any.whl (6.2 MB)\n",
      "\u001b[2K   \u001b[90m━━━━━━━━━━━━━━━━━━━━━━━━━━━━━━━━━━━━━━━━\u001b[0m \u001b[32m6.2/6.2 MB\u001b[0m \u001b[31m28.4 MB/s\u001b[0m eta \u001b[36m0:00:00\u001b[0mta \u001b[36m0:00:01\u001b[0m\n",
      "\u001b[?25hDownloading triton-3.1.0-cp312-cp312-manylinux_2_17_x86_64.manylinux2014_x86_64.whl (209.6 MB)\n",
      "\u001b[2K   \u001b[90m━━━━━━━━━━━━━━━━━━━━━━━━━━━━━━━━━━━━━━━━\u001b[0m \u001b[32m209.6/209.6 MB\u001b[0m \u001b[31m71.3 MB/s\u001b[0m eta \u001b[36m0:00:00\u001b[0m00:01\u001b[0m00:01\u001b[0m\n",
      "\u001b[?25hDownloading networkx-3.4.2-py3-none-any.whl (1.7 MB)\n",
      "\u001b[2K   \u001b[90m━━━━━━━━━━━━━━━━━━━━━━━━━━━━━━━━━━━━━━━━\u001b[0m \u001b[32m1.7/1.7 MB\u001b[0m \u001b[31m8.5 MB/s\u001b[0m eta \u001b[36m0:00:00\u001b[0m\n",
      "\u001b[?25hDownloading mpmath-1.3.0-py3-none-any.whl (536 kB)\n",
      "\u001b[2K   \u001b[90m━━━━━━━━━━━━━━━━━━━━━━━━━━━━━━━━━━━━━━━━\u001b[0m \u001b[32m536.2/536.2 kB\u001b[0m \u001b[31m1.3 MB/s\u001b[0m eta \u001b[36m0:00:00\u001b[0m:00:01\u001b[0m\n",
      "\u001b[?25hInstalling collected packages: mpmath, triton, sympy, nvidia-nvtx-cu12, nvidia-nvjitlink-cu12, nvidia-nccl-cu12, nvidia-curand-cu12, nvidia-cufft-cu12, nvidia-cuda-runtime-cu12, nvidia-cuda-nvrtc-cu12, nvidia-cuda-cupti-cu12, nvidia-cublas-cu12, networkx, nvidia-cusparse-cu12, nvidia-cudnn-cu12, nvidia-cusolver-cu12, torch\n",
      "Successfully installed mpmath-1.3.0 networkx-3.4.2 nvidia-cublas-cu12-12.4.5.8 nvidia-cuda-cupti-cu12-12.4.127 nvidia-cuda-nvrtc-cu12-12.4.127 nvidia-cuda-runtime-cu12-12.4.127 nvidia-cudnn-cu12-9.1.0.70 nvidia-cufft-cu12-11.2.1.3 nvidia-curand-cu12-10.3.5.147 nvidia-cusolver-cu12-11.6.1.9 nvidia-cusparse-cu12-12.3.1.170 nvidia-nccl-cu12-2.21.5 nvidia-nvjitlink-cu12-12.4.127 nvidia-nvtx-cu12-12.4.127 sympy-1.13.1 torch-2.5.1 triton-3.1.0\n",
      "Defaulting to user installation because normal site-packages is not writeable\n",
      "Collecting nltk\n",
      "  Downloading nltk-3.9.1-py3-none-any.whl.metadata (2.9 kB)\n",
      "Requirement already satisfied: click in /usr/lib/python3/dist-packages (from nltk) (8.1.6)\n",
      "Collecting joblib (from nltk)\n",
      "  Downloading joblib-1.4.2-py3-none-any.whl.metadata (5.4 kB)\n",
      "Requirement already satisfied: regex>=2021.8.3 in /home/ucloud/.local/lib/python3.12/site-packages (from nltk) (2024.11.6)\n",
      "Requirement already satisfied: tqdm in /home/ucloud/.local/lib/python3.12/site-packages (from nltk) (4.67.1)\n",
      "Downloading nltk-3.9.1-py3-none-any.whl (1.5 MB)\n",
      "\u001b[2K   \u001b[90m━━━━━━━━━━━━━━━━━━━━━━━━━━━━━━━━━━━━━━━━\u001b[0m \u001b[32m1.5/1.5 MB\u001b[0m \u001b[31m2.4 MB/s\u001b[0m eta \u001b[36m0:00:00\u001b[0mta \u001b[36m0:00:01\u001b[0m\n",
      "\u001b[?25hDownloading joblib-1.4.2-py3-none-any.whl (301 kB)\n",
      "Installing collected packages: joblib, nltk\n",
      "Successfully installed joblib-1.4.2 nltk-3.9.1\n"
     ]
    }
   ],
   "source": [
    "!pip install transformers\n",
    "!pip install torch\n",
    "!pip install nltk"
   ]
  },
  {
   "cell_type": "code",
   "execution_count": null,
   "metadata": {},
   "outputs": [
    {
     "data": {
      "application/vnd.jupyter.widget-view+json": {
       "model_id": "9bc2772e4ef54303a0d2b032497d25fd",
       "version_major": 2,
       "version_minor": 0
      },
      "text/plain": [
       "tokenizer_config.json:   0%|          | 0.00/564 [00:00<?, ?B/s]"
      ]
     },
     "metadata": {},
     "output_type": "display_data"
    },
    {
     "data": {
      "application/vnd.jupyter.widget-view+json": {
       "model_id": "0464af88b8e74650b9379637461050c6",
       "version_major": 2,
       "version_minor": 0
      },
      "text/plain": [
       "sentencepiece.bpe.model:   0%|          | 0.00/4.85M [00:00<?, ?B/s]"
      ]
     },
     "metadata": {},
     "output_type": "display_data"
    },
    {
     "data": {
      "application/vnd.jupyter.widget-view+json": {
       "model_id": "73625d41c18d48cf82a1e1ef270b8d17",
       "version_major": 2,
       "version_minor": 0
      },
      "text/plain": [
       "tokenizer.json:   0%|          | 0.00/17.3M [00:00<?, ?B/s]"
      ]
     },
     "metadata": {},
     "output_type": "display_data"
    },
    {
     "data": {
      "application/vnd.jupyter.widget-view+json": {
       "model_id": "6e870c2c4ad64c3987c96e7373065063",
       "version_major": 2,
       "version_minor": 0
      },
      "text/plain": [
       "special_tokens_map.json:   0%|          | 0.00/3.55k [00:00<?, ?B/s]"
      ]
     },
     "metadata": {},
     "output_type": "display_data"
    },
    {
     "data": {
      "application/vnd.jupyter.widget-view+json": {
       "model_id": "8bab51a8a1104a2f9e80383ec750e53e",
       "version_major": 2,
       "version_minor": 0
      },
      "text/plain": [
       "config.json:   0%|          | 0.00/808 [00:00<?, ?B/s]"
      ]
     },
     "metadata": {},
     "output_type": "display_data"
    },
    {
     "data": {
      "application/vnd.jupyter.widget-view+json": {
       "model_id": "772793f8cc0146078e9f0d7c68d3bb71",
       "version_major": 2,
       "version_minor": 0
      },
      "text/plain": [
       "pytorch_model.bin.index.json:   0%|          | 0.00/90.0k [00:00<?, ?B/s]"
      ]
     },
     "metadata": {},
     "output_type": "display_data"
    },
    {
     "data": {
      "application/vnd.jupyter.widget-view+json": {
       "model_id": "8d4125782b934875a77f74e595bf9cd1",
       "version_major": 2,
       "version_minor": 0
      },
      "text/plain": [
       "Downloading shards:   0%|          | 0/3 [00:00<?, ?it/s]"
      ]
     },
     "metadata": {},
     "output_type": "display_data"
    },
    {
     "data": {
      "application/vnd.jupyter.widget-view+json": {
       "model_id": "64ef2d9b91a14ce393b538f03d7fbe6b",
       "version_major": 2,
       "version_minor": 0
      },
      "text/plain": [
       "pytorch_model-00001-of-00003.bin:   0%|          | 0.00/6.93G [00:00<?, ?B/s]"
      ]
     },
     "metadata": {},
     "output_type": "display_data"
    },
    {
     "data": {
      "application/vnd.jupyter.widget-view+json": {
       "model_id": "cf4319e7d0dc4923b7ad36310e4b3d8a",
       "version_major": 2,
       "version_minor": 0
      },
      "text/plain": [
       "pytorch_model-00002-of-00003.bin:   0%|          | 0.00/8.55G [00:00<?, ?B/s]"
      ]
     },
     "metadata": {},
     "output_type": "display_data"
    },
    {
     "data": {
      "application/vnd.jupyter.widget-view+json": {
       "model_id": "bdde15c35b1a40a18298c862990edff1",
       "version_major": 2,
       "version_minor": 0
      },
      "text/plain": [
       "pytorch_model-00003-of-00003.bin:   0%|          | 0.00/2.10G [00:00<?, ?B/s]"
      ]
     },
     "metadata": {},
     "output_type": "display_data"
    },
    {
     "data": {
      "application/vnd.jupyter.widget-view+json": {
       "model_id": "56697c66dae94326bfc8e090bdae46ca",
       "version_major": 2,
       "version_minor": 0
      },
      "text/plain": [
       "Loading checkpoint shards:   0%|          | 0/3 [00:00<?, ?it/s]"
      ]
     },
     "metadata": {},
     "output_type": "display_data"
    },
    {
     "data": {
      "application/vnd.jupyter.widget-view+json": {
       "model_id": "0368eb9595de4556a80a951e375a144b",
       "version_major": 2,
       "version_minor": 0
      },
      "text/plain": [
       "generation_config.json:   0%|          | 0.00/189 [00:00<?, ?B/s]"
      ]
     },
     "metadata": {},
     "output_type": "display_data"
    },
    {
     "name": "stdout",
     "output_type": "stream",
     "text": [
      "Translation: Once upon a time there was a king who had three sons.\n"
     ]
    }
   ],
   "source": [
    "from transformers import AutoTokenizer, AutoModelForSeq2SeqLM\n",
    "\n",
    "#This is an example to test whether a simple sentence works\n",
    "model_name = \"facebook/nllb-200-3.3B\"\n",
    "tokenizer = AutoTokenizer.from_pretrained(model_name)\n",
    "model = AutoModelForSeq2SeqLM.from_pretrained(model_name)\n",
    "\n",
    "\n",
    "german_sentence = \"Es war einmal ein König, der hatte drei Söhne.\"\n",
    "\n",
    "\n",
    "target_lang = \"eng_Latn\"  # English in Latin script\n",
    "forced_bos_token_id = tokenizer.convert_tokens_to_ids(target_lang)\n",
    "\n",
    "inputs = tokenizer(german_sentence, return_tensors=\"pt\", padding=True, truncation=True)\n",
    "outputs = model.generate(**inputs, forced_bos_token_id=forced_bos_token_id, max_length=50)\n",
    "translation = tokenizer.decode(outputs[0], skip_special_tokens=True)\n",
    "\n",
    "print(\"Translation:\", translation)\n"
   ]
  },
  {
   "cell_type": "code",
   "execution_count": null,
   "metadata": {},
   "outputs": [],
   "source": [
    "import os\n",
    "from transformers import AutoTokenizer, AutoModelForSeq2SeqLM\n",
    "\n",
    "input_dir = \"/work/FrederiekeNicolaWullf#7811/Exam/german_tales/\" \n",
    "output_dir = \"/work/FrederiekeNicolaWullf#7811/Exam/nllb_translated/\"\n",
    "\n",
    "#Load model\n",
    "model_name = \"facebook/nllb-200-3.3B\"\n",
    "tokenizer = AutoTokenizer.from_pretrained(model_name)\n",
    "model = AutoModelForSeq2SeqLM.from_pretrained(model_name)\n",
    "\n",
    "\n",
    "source_lang = \"deu_Latn\" #remember the different language codes\n",
    "target_lang = \"eng_Latn\"\n",
    "\n",
    "\n",
    "forced_bos_token_id = tokenizer.convert_tokens_to_ids(target_lang)\n",
    "\n",
    "#Sentence basis\n",
    "def translate_text(text, tokenizer, model, forced_bos_token_id):\n",
    "    sentences = text.split(\". \")\n",
    "    translations = []\n",
    "    \n",
    "    for sentence in sentences:\n",
    "        \n",
    "        inputs = tokenizer(sentence, return_tensors=\"pt\", padding=True, truncation=True)\n",
    "        \n",
    "        \n",
    "        outputs = model.generate(**inputs, forced_bos_token_id=forced_bos_token_id, max_length=150)\n",
    "        translated_sentence = tokenizer.decode(outputs[0], skip_special_tokens=True)\n",
    "        \n",
    "        \n",
    "        translations.append(translated_sentence)\n",
    "    \n",
    "    return \". \".join(translations)\n",
    "\n",
    "os.makedirs(output_dir, exist_ok=True)\n",
    "#splits per sentence and the recombines them in txt file afterwards.\n",
    "\n",
    "for filename in os.listdir(input_dir):\n",
    "    if filename.endswith(\".txt\"):\n",
    "        input_file = os.path.join(input_dir, filename)\n",
    "        output_file = os.path.join(output_dir, f\"{filename}_en\")\n",
    "        \n",
    "        \n",
    "        with open(input_file, \"r\", encoding=\"utf-8\") as file:\n",
    "            text = file.read()\n",
    "\n",
    "        translated_text = translate_text(text, tokenizer, model, forced_bos_token_id)\n",
    "\n",
    "        with open(output_file, \"w\", encoding=\"utf-8\") as file:\n",
    "            file.write(translated_text)\n",
    "\n",
    "        \n",
    "        print(f\"Translation completed: {output_file}\")\n",
    "\n",
    "\n",
    "        # Paths\n",
    "\n",
    "\n",
    "# Ensure output folder exists\n",
    "os.makedirs(output_folder, exist_ok=True)\n",
    "\n",
    "# Function to translate a single file\n",
    "def translate_file(file_path):\n",
    "    # Read German text\n",
    "    with open(file_path, \"r\", encoding=\"utf-8\") as file:\n",
    "        german_text = file.read()\n",
    "\n",
    "    # Translation logic (choose a method: sentence, paragraph, or full text)\n",
    "    # Example: Full-text translation\n",
    "    prompt = f\"Translate the following German text to English, but keep the style and tone as close to the historical original as possible :\\n\\n{german_text}\"\n",
    "    full_translation = pipeline(prompt, max_length=5000, num_return_sequences=1)[0][\"generated_text\"]\n",
    "\n",
    "    # Save translated text with the same filename but in the output folder\n",
    "    base_name = os.path.basename(file_path)  # Get the file name (e.g., 001_fairytale.txt)\n",
    "    translated_name = os.path.splitext(base_name)[0] + \"_en.txt\"  # Add suffix for English\n",
    "    output_path = os.path.join(output_folder, translated_name)\n",
    "\n",
    "    with open(output_path, \"w\", encoding=\"utf-8\") as file:\n",
    "        file.write(full_translation)\n",
    "\n",
    "    print(f\"Translated and saved: {output_path}\")\n",
    "\n",
    "# Example: Translate a single file\n",
    "translate_file(\"/work/FrederiekeNicolaWullf#7811/Exam/german_tales/22_Das_Räthsel.txt\")"
   ]
  },
  {
   "cell_type": "markdown",
   "metadata": {},
   "source": [
    "### Full Translation of one file"
   ]
  },
  {
   "cell_type": "code",
   "execution_count": 6,
   "metadata": {},
   "outputs": [
    {
     "name": "stderr",
     "output_type": "stream",
     "text": [
      "huggingface/tokenizers: The current process just got forked, after parallelism has already been used. Disabling parallelism to avoid deadlocks...\n",
      "To disable this warning, you can either:\n",
      "\t- Avoid using `tokenizers` before the fork if possible\n",
      "\t- Explicitly set the environment variable TOKENIZERS_PARALLELISM=(true | false)\n"
     ]
    },
    {
     "data": {
      "application/vnd.jupyter.widget-view+json": {
       "model_id": "0f45d1f2d9904f58965421d0d3bf277b",
       "version_major": 2,
       "version_minor": 0
      },
      "text/plain": [
       "Loading checkpoint shards:   0%|          | 0/3 [00:00<?, ?it/s]"
      ]
     },
     "metadata": {},
     "output_type": "display_data"
    },
    {
     "name": "stdout",
     "output_type": "stream",
     "text": [
      "Translated and saved: /work/FrederiekeNicolaWullf#7811/Exam/nllb_renamed/140_domestic_servants.txt\n"
     ]
    }
   ],
   "source": [
    "import os\n",
    "from transformers import AutoTokenizer, AutoModelForSeq2SeqLM\n",
    "\n",
    "\n",
    "input_file_path = \"/work/Exam/german_tales/140_Das_Hausgesinde.txt\"\n",
    "output_file_path = \"/work/Exam/nllb_renamed/140_domestic_servants.txt\"\n",
    "\n",
    "\n",
    "model_name = \"facebook/nllb-200-3.3B\"\n",
    "tokenizer = AutoTokenizer.from_pretrained(model_name)\n",
    "model = AutoModelForSeq2SeqLM.from_pretrained(model_name)\n",
    "\n",
    "source_lang = \"deu_Latn\"  # German in Latin script\n",
    "target_lang = \"eng_Latn\"  # English in Latin script\n",
    "\n",
    "forced_bos_token_id = tokenizer.convert_tokens_to_ids(target_lang)\n",
    "\n",
    "def translate_text(text, tokenizer, model, forced_bos_token_id):\n",
    "    # Split the text into sentences\n",
    "    sentences = text.split(\". \")\n",
    "    translations = []\n",
    "    \n",
    "    for sentence in sentences:\n",
    "        inputs = tokenizer(sentence, return_tensors=\"pt\", padding=True, truncation=True)\n",
    "        \n",
    "        outputs = model.generate(**inputs, forced_bos_token_id=forced_bos_token_id, max_length=150)\n",
    "        translated_sentence = tokenizer.decode(outputs[0], skip_special_tokens=True)\n",
    "        \n",
    "        translations.append(translated_sentence)\n",
    "    \n",
    "    return \". \".join(translations)\n",
    "\n",
    "with open(input_file_path, \"r\", encoding=\"utf-8\") as file:\n",
    "    text = file.read()\n",
    "\n",
    "full_translation = translate_text(text, tokenizer, model, forced_bos_token_id)\n",
    "\n",
    "with open(output_file_path, \"w\", encoding=\"utf-8\") as file:\n",
    "    file.write(full_translation)\n",
    "\n",
    "print(f\"Translated and saved: {output_file_path}\")\n",
    "\n"
   ]
  },
  {
   "cell_type": "markdown",
   "metadata": {},
   "source": [
    "### Full translation loop for all\n",
    "-Skips already translated files (had to be repeated multiple times due to ucloud crash)"
   ]
  },
  {
   "cell_type": "code",
   "execution_count": 2,
   "metadata": {},
   "outputs": [
    {
     "data": {
      "application/vnd.jupyter.widget-view+json": {
       "model_id": "1b9c394fe2fc4d92810fde54fb63bc8b",
       "version_major": 2,
       "version_minor": 0
      },
      "text/plain": [
       "tokenizer_config.json:   0%|          | 0.00/564 [00:00<?, ?B/s]"
      ]
     },
     "metadata": {},
     "output_type": "display_data"
    },
    {
     "data": {
      "application/vnd.jupyter.widget-view+json": {
       "model_id": "9d0dbf18b79e4f2187ae79328eecf49d",
       "version_major": 2,
       "version_minor": 0
      },
      "text/plain": [
       "sentencepiece.bpe.model:   0%|          | 0.00/4.85M [00:00<?, ?B/s]"
      ]
     },
     "metadata": {},
     "output_type": "display_data"
    },
    {
     "data": {
      "application/vnd.jupyter.widget-view+json": {
       "model_id": "ba9eee60c1f2471ea058b5b759a9f45a",
       "version_major": 2,
       "version_minor": 0
      },
      "text/plain": [
       "tokenizer.json:   0%|          | 0.00/17.3M [00:00<?, ?B/s]"
      ]
     },
     "metadata": {},
     "output_type": "display_data"
    },
    {
     "data": {
      "application/vnd.jupyter.widget-view+json": {
       "model_id": "4a1df59c8f474a9981062140576a200d",
       "version_major": 2,
       "version_minor": 0
      },
      "text/plain": [
       "special_tokens_map.json:   0%|          | 0.00/3.55k [00:00<?, ?B/s]"
      ]
     },
     "metadata": {},
     "output_type": "display_data"
    },
    {
     "data": {
      "application/vnd.jupyter.widget-view+json": {
       "model_id": "2c27a1bfee7d4cfaabab784df2e94af4",
       "version_major": 2,
       "version_minor": 0
      },
      "text/plain": [
       "config.json:   0%|          | 0.00/808 [00:00<?, ?B/s]"
      ]
     },
     "metadata": {},
     "output_type": "display_data"
    },
    {
     "data": {
      "application/vnd.jupyter.widget-view+json": {
       "model_id": "22f4e063c0c942fcba50ecda031e0917",
       "version_major": 2,
       "version_minor": 0
      },
      "text/plain": [
       "pytorch_model.bin.index.json:   0%|          | 0.00/90.0k [00:00<?, ?B/s]"
      ]
     },
     "metadata": {},
     "output_type": "display_data"
    },
    {
     "data": {
      "application/vnd.jupyter.widget-view+json": {
       "model_id": "4ec34d0390cb4cbdbf1073c1681531fb",
       "version_major": 2,
       "version_minor": 0
      },
      "text/plain": [
       "Downloading shards:   0%|          | 0/3 [00:00<?, ?it/s]"
      ]
     },
     "metadata": {},
     "output_type": "display_data"
    },
    {
     "data": {
      "application/vnd.jupyter.widget-view+json": {
       "model_id": "7bcb76392ac34386a640ae319203084e",
       "version_major": 2,
       "version_minor": 0
      },
      "text/plain": [
       "pytorch_model-00001-of-00003.bin:   0%|          | 0.00/6.93G [00:00<?, ?B/s]"
      ]
     },
     "metadata": {},
     "output_type": "display_data"
    },
    {
     "data": {
      "application/vnd.jupyter.widget-view+json": {
       "model_id": "bb6b37dc320f427b939e069dd1fd38d8",
       "version_major": 2,
       "version_minor": 0
      },
      "text/plain": [
       "pytorch_model-00002-of-00003.bin:   0%|          | 0.00/8.55G [00:00<?, ?B/s]"
      ]
     },
     "metadata": {},
     "output_type": "display_data"
    },
    {
     "data": {
      "application/vnd.jupyter.widget-view+json": {
       "model_id": "999e096c34eb4caa8390b1a750da01b0",
       "version_major": 2,
       "version_minor": 0
      },
      "text/plain": [
       "pytorch_model-00003-of-00003.bin:   0%|          | 0.00/2.10G [00:00<?, ?B/s]"
      ]
     },
     "metadata": {},
     "output_type": "display_data"
    },
    {
     "data": {
      "application/vnd.jupyter.widget-view+json": {
       "model_id": "dc580a88dc184b7aa652106e560c3bb2",
       "version_major": 2,
       "version_minor": 0
      },
      "text/plain": [
       "Loading checkpoint shards:   0%|          | 0/3 [00:00<?, ?it/s]"
      ]
     },
     "metadata": {},
     "output_type": "display_data"
    },
    {
     "data": {
      "application/vnd.jupyter.widget-view+json": {
       "model_id": "eb47ebda2f934bd59043aadf937b57ea",
       "version_major": 2,
       "version_minor": 0
      },
      "text/plain": [
       "generation_config.json:   0%|          | 0.00/189 [00:00<?, ?B/s]"
      ]
     },
     "metadata": {},
     "output_type": "display_data"
    },
    {
     "name": "stdout",
     "output_type": "stream",
     "text": [
      "Skipping already translated file: /work/FrederiekeNicolaWullf#7811/Exam/nllb_translated/177_Die_Boten_des_Todes.txt_en\n",
      "Skipping already translated file: /work/FrederiekeNicolaWullf#7811/Exam/nllb_translated/144_Das_Eselein.txt_en\n",
      "Skipping already translated file: /work/FrederiekeNicolaWullf#7811/Exam/nllb_translated/135_Die_weiße_und_die_schwarze_Bra.txt_en\n",
      "Skipping already translated file: /work/FrederiekeNicolaWullf#7811/Exam/nllb_translated/164_Der_faule_Heinz.txt_en\n",
      "Skipping already translated file: /work/FrederiekeNicolaWullf#7811/Exam/nllb_translated/31_Das_Mädchen_ohne_Hände.txt_en\n",
      "Skipping already translated file: /work/FrederiekeNicolaWullf#7811/Exam/nllb_translated/155_Die_Brautschau.txt_en\n",
      "Skipping already translated file: /work/FrederiekeNicolaWullf#7811/Exam/nllb_translated/196_Oll_Rinkrank.txt_en\n",
      "Skipping already translated file: /work/FrederiekeNicolaWullf#7811/Exam/nllb_translated/50_Dornröschen.txt_en\n",
      "Skipping already translated file: /work/FrederiekeNicolaWullf#7811/Exam/nllb_translated/24_Frau_Holle.txt_en\n",
      "Skipping already translated file: /work/FrederiekeNicolaWullf#7811/Exam/nllb_translated/34_Die_kluge_Else.txt_en\n",
      "Skipping already translated file: /work/FrederiekeNicolaWullf#7811/Exam/nllb_translated/106_Der_arme_Müllerbursch_und_das_.txt_en\n",
      "Skipping already translated file: /work/FrederiekeNicolaWullf#7811/Exam/nllb_translated/200_Der_goldene_Schlüssel.txt_en\n",
      "Skipping already translated file: /work/FrederiekeNicolaWullf#7811/Exam/nllb_translated/44_Der_Gevatter_Tod.txt_en\n",
      "Skipping already translated file: /work/FrederiekeNicolaWullf#7811/Exam/nllb_translated/27_Die_Bremer_Stadtmusikanten.txt_en\n",
      "Skipping already translated file: /work/FrederiekeNicolaWullf#7811/Exam/nllb_translated/176_Die_Lebenszeit.txt_en\n",
      "Skipping already translated file: /work/FrederiekeNicolaWullf#7811/Exam/nllb_translated/33_Die_drei_Sprachen.txt_en\n",
      "Skipping already translated file: /work/FrederiekeNicolaWullf#7811/Exam/nllb_translated/97_Das_Wasser_des_Lebens.txt_en\n",
      "Skipping already translated file: /work/FrederiekeNicolaWullf#7811/Exam/nllb_translated/201_heavenly_wedding.txt_en\n",
      "Skipping already translated file: /work/FrederiekeNicolaWullf#7811/Exam/nllb_translated/43_Frau_Trude.txt_en\n",
      "Skipping already translated file: /work/FrederiekeNicolaWullf#7811/Exam/nllb_translated/127_Der_Eisenofen.txt_en\n",
      "Skipping already translated file: /work/FrederiekeNicolaWullf#7811/Exam/nllb_translated/112_Der_Dreschflegel_vom_Himmel.txt_en\n",
      "Skipping already translated file: /work/FrederiekeNicolaWullf#7811/Exam/nllb_translated/115_Die_klare_Sonne_bringts_an_den.txt_en\n",
      "Skipping already translated file: /work/FrederiekeNicolaWullf#7811/Exam/nllb_translated/170_Lieb_und_Leid_theilen.txt_en\n",
      "Skipping already translated file: /work/FrederiekeNicolaWullf#7811/Exam/nllb_translated/26_Rothkäppchen.txt_en\n",
      "Skipping already translated file: /work/FrederiekeNicolaWullf#7811/Exam/nllb_translated/153_Die_Sternthaler.txt_en\n",
      "Skipping already translated file: /work/FrederiekeNicolaWullf#7811/Exam/nllb_translated/149_Der_Hahnenbalken.txt_en\n",
      "Skipping already translated file: /work/FrederiekeNicolaWullf#7811/Exam/nllb_translated/130_Einäuglein,_Zweiäuglein_und_Dr.txt_en\n",
      "Skipping already translated file: /work/FrederiekeNicolaWullf#7811/Exam/nllb_translated/56_Der_Liebste_Roland.txt_en\n",
      "Skipping already translated file: /work/FrederiekeNicolaWullf#7811/Exam/nllb_translated/21_Aschenbuttel.txt_en\n",
      "Skipping already translated file: /work/FrederiekeNicolaWullf#7811/Exam/nllb_translated/14_Die_drei_Spinnerinnen.txt_en\n",
      "Skipping already translated file: /work/FrederiekeNicolaWullf#7811/Exam/nllb_translated/138_Knoist_un_sine_dre_Sühne.txt_en\n",
      "Skipping already translated file: /work/FrederiekeNicolaWullf#7811/Exam/nllb_translated/49_Die_sechs_Schwäne.txt_en\n",
      "Skipping already translated file: /work/FrederiekeNicolaWullf#7811/Exam/nllb_translated/161_Schneeweißchen_und_Rosenroth.txt_en\n",
      "Skipping already translated file: /work/FrederiekeNicolaWullf#7811/Exam/nllb_translated/81_Bruder_Lustig.txt_en\n",
      "Skipping already translated file: /work/FrederiekeNicolaWullf#7811/Exam/nllb_translated/184_Der_Nagel.txt_en\n",
      "Skipping already translated file: /work/FrederiekeNicolaWullf#7811/Exam/nllb_translated/8_Der_wunderliche_Spielmann.txt_en\n",
      "Skipping already translated file: /work/FrederiekeNicolaWullf#7811/Exam/nllb_translated/64_Die_goldene_Gans.txt_en\n",
      "Skipping already translated file: /work/FrederiekeNicolaWullf#7811/Exam/nllb_translated/118_Die_drei_Feldscherer.txt_en\n",
      "Skipping already translated file: /work/FrederiekeNicolaWullf#7811/Exam/nllb_translated/193_Der_Trommler.txt_en\n",
      "Skipping already translated file: /work/FrederiekeNicolaWullf#7811/Exam/nllb_translated/105_Märchen_von_der_Unke.txt_en\n",
      "Skipping already translated file: /work/FrederiekeNicolaWullf#7811/Exam/nllb_translated/1_Der_Froschkönig_oder_der_eiser.txt_en\n",
      "Skipping already translated file: /work/FrederiekeNicolaWullf#7811/Exam/nllb_translated/147_Das_junggeglühte_Männlein.txt_en\n",
      "Skipping already translated file: /work/FrederiekeNicolaWullf#7811/Exam/nllb_translated/198_Jungfrau_Maleen.txt_en\n",
      "Skipping already translated file: /work/FrederiekeNicolaWullf#7811/Exam/nllb_translated/42_Der_Herr_Gevatter.txt_en\n",
      "Skipping already translated file: /work/FrederiekeNicolaWullf#7811/Exam/nllb_translated/142_Simeliberg.txt_en\n",
      "Skipping already translated file: /work/FrederiekeNicolaWullf#7811/Exam/nllb_translated/65_Allerleirauh.txt_en\n",
      "Skipping already translated file: /work/FrederiekeNicolaWullf#7811/Exam/nllb_translated/71_Sechse_kommen_durch_die_ganze_.txt_en\n",
      "Skipping already translated file: /work/FrederiekeNicolaWullf#7811/Exam/nllb_translated/156_Die_Schlickerlinge.txt_en\n",
      "Skipping already translated file: /work/FrederiekeNicolaWullf#7811/Exam/nllb_translated/109_Das_Todtenhemdchen.txt_en\n",
      "Skipping already translated file: /work/FrederiekeNicolaWullf#7811/Exam/nllb_translated/9_Die_zwölf_Brüder.txt_en\n",
      "Skipping already translated file: /work/FrederiekeNicolaWullf#7811/Exam/nllb_translated/152_Das_Hirtenbüblein.txt_en\n",
      "Skipping already translated file: /work/FrederiekeNicolaWullf#7811/Exam/nllb_translated/2_Katze_und_Maus_in_Gesellschaft.txt_en\n",
      "Skipping already translated file: /work/FrederiekeNicolaWullf#7811/Exam/nllb_translated/4_Armuth_und_Demuth_führen_zum_H.txt_en\n",
      "Skipping already translated file: /work/FrederiekeNicolaWullf#7811/Exam/nllb_translated/123_Die_Alte_im_Wald.txt_en\n",
      "Skipping already translated file: /work/FrederiekeNicolaWullf#7811/Exam/nllb_translated/40_Der_Räuberbräutigam.txt_en\n",
      "Skipping already translated file: /work/FrederiekeNicolaWullf#7811/Exam/nllb_translated/59_Der_Frieder_und_das_Catherlies.txt_en\n",
      "Skipping already translated file: /work/FrederiekeNicolaWullf#7811/Exam/nllb_translated/189_Der_Bauer_und_der_Teufel.txt_en\n",
      "Skipping already translated file: /work/FrederiekeNicolaWullf#7811/Exam/nllb_translated/187_Der_Hase_und_der_Jgel.txt_en\n",
      "Skipping already translated file: /work/FrederiekeNicolaWullf#7811/Exam/nllb_translated/116_Das_blaue_Licht.txt_en\n",
      "Skipping already translated file: /work/FrederiekeNicolaWullf#7811/Exam/nllb_translated/146_Die_Rübe.txt_en\n",
      "Skipping already translated file: /work/FrederiekeNicolaWullf#7811/Exam/nllb_translated/52_König_Drosselbart.txt_en\n",
      "Skipping already translated file: /work/FrederiekeNicolaWullf#7811/Exam/nllb_translated/150_Die_alte_Bettelfrau.txt_en\n",
      "Skipping already translated file: /work/FrederiekeNicolaWullf#7811/Exam/nllb_translated/9_Die_himmlische_Hochzeit.txt_en\n",
      "Skipping already translated file: /work/FrederiekeNicolaWullf#7811/Exam/nllb_translated/182_Die_Geschenke_des_kleinen_Volk.txt_en\n",
      "Skipping already translated file: /work/FrederiekeNicolaWullf#7811/Exam/nllb_translated/51_Fundevogel.txt_en\n",
      "Skipping already translated file: /work/FrederiekeNicolaWullf#7811/Exam/nllb_translated/88_Das_singende_springende_Löwene.txt_en\n",
      "Skipping already translated file: /work/FrederiekeNicolaWullf#7811/Exam/nllb_translated/25_Die_sieben_Raben.txt_en\n",
      "Skipping already translated file: /work/FrederiekeNicolaWullf#7811/Exam/nllb_translated/172_Die_Scholle.txt_en\n",
      "Skipping already translated file: /work/FrederiekeNicolaWullf#7811/Exam/nllb_translated/19_Von_dem_Fischer_un_syner_Fru.txt_en\n",
      "Skipping already translated file: /work/FrederiekeNicolaWullf#7811/Exam/nllb_translated/47_Von_dem_Machandelboom.txt_en\n",
      "Skipping already translated file: /work/FrederiekeNicolaWullf#7811/Exam/nllb_translated/181_Die_Nixe_im_Teich.txt_en\n",
      "Skipping already translated file: /work/FrederiekeNicolaWullf#7811/Exam/nllb_translated/154_Der_gestohlene_Heller.txt_en\n",
      "Skipping already translated file: /work/FrederiekeNicolaWullf#7811/Exam/nllb_translated/107_Die_beiden_Wanderer.txt_en\n",
      "Skipping already translated file: /work/FrederiekeNicolaWullf#7811/Exam/nllb_translated/143_Up_Reisen_gohn.txt_en\n",
      "Skipping already translated file: /work/FrederiekeNicolaWullf#7811/Exam/nllb_translated/87_Der_Arme_und_der_Reiche.txt_en\n",
      "Skipping already translated file: /work/FrederiekeNicolaWullf#7811/Exam/nllb_translated/132_Der_Fuchs_und_das_Pferd.txt_en\n",
      "Skipping already translated file: /work/FrederiekeNicolaWullf#7811/Exam/nllb_translated/171_Der_Zaunkönig.txt_en\n",
      "Skipping already translated file: /work/FrederiekeNicolaWullf#7811/Exam/nllb_translated/32_Der_gescheidte_Hans.txt_en\n",
      "Skipping already translated file: /work/FrederiekeNicolaWullf#7811/Exam/nllb_translated/10_Die_Haselruthe.txt_en\n",
      "Skipping already translated file: /work/FrederiekeNicolaWullf#7811/Exam/nllb_translated/45_Daumerlings_Wanderschaft.txt_en\n",
      "Skipping already translated file: /work/FrederiekeNicolaWullf#7811/Exam/nllb_translated/188_Spindel,_Weberschiffchen_und_N.txt_en\n",
      "Skipping already translated file: /work/FrederiekeNicolaWullf#7811/Exam/nllb_translated/41_Herr_Korbes.txt_en\n",
      "Skipping already translated file: /work/FrederiekeNicolaWullf#7811/Exam/nllb_translated/185_Der_arme_Junge_im_Grab.txt_en\n",
      "Skipping already translated file: /work/FrederiekeNicolaWullf#7811/Exam/nllb_translated/183_Der_Riese_und_der_Schneider.txt_en\n",
      "Skipping already translated file: /work/FrederiekeNicolaWullf#7811/Exam/nllb_translated/167_Das_Bürle_im_Himmel.txt_en\n",
      "Skipping already translated file: /work/FrederiekeNicolaWullf#7811/Exam/nllb_translated/5_Gottes_Speise.txt_en\n",
      "Skipping already translated file: /work/FrederiekeNicolaWullf#7811/Exam/nllb_translated/191_Das_Meerhäschen.txt_en\n",
      "Skipping already translated file: /work/FrederiekeNicolaWullf#7811/Exam/nllb_translated/104_Die_klugen_Leute.txt_en\n",
      "Skipping already translated file: /work/FrederiekeNicolaWullf#7811/Exam/nllb_translated/58_Der_Hund_und_der_Sperling.txt_en\n",
      "Skipping already translated file: /work/FrederiekeNicolaWullf#7811/Exam/nllb_translated/22_Das_Räthsel.txt_en\n",
      "Skipping already translated file: /work/FrederiekeNicolaWullf#7811/Exam/nllb_translated/8_Das_alte_Mütterchen.txt_en\n",
      "Skipping already translated file: /work/FrederiekeNicolaWullf#7811/Exam/nllb_translated/125_Der_Teufel_und_seine_Großmutte.txt_en\n",
      "Skipping already translated file: /work/FrederiekeNicolaWullf#7811/Exam/nllb_translated/36_Tischchen_deck_dich,_Goldesel,.txt_en\n",
      "Skipping already translated file: /work/FrederiekeNicolaWullf#7811/Exam/nllb_translated/174_Die_Eule.txt_en\n",
      "Skipping already translated file: /work/FrederiekeNicolaWullf#7811/Exam/nllb_translated/199_Der_Stiefel_von_Büffelleder.txt_en\n",
      "Skipping already translated file: /work/FrederiekeNicolaWullf#7811/Exam/nllb_translated/48_Der_alte_Sultan.txt_en\n",
      "Skipping already translated file: /work/FrederiekeNicolaWullf#7811/Exam/nllb_translated/55_Rumpelstilzchen.txt_en\n",
      "Skipping already translated file: /work/FrederiekeNicolaWullf#7811/Exam/nllb_translated/37_Daumesdick.txt_en\n",
      "Skipping already translated file: /work/FrederiekeNicolaWullf#7811/Exam/nllb_translated/6_Die_drei_grünen_Zweige.txt_en\n",
      "Skipping already translated file: /work/FrederiekeNicolaWullf#7811/Exam/nllb_translated/80_Von_dem_Tode_des_Hühnchens.txt_en\n",
      "Skipping already translated file: /work/FrederiekeNicolaWullf#7811/Exam/nllb_translated/157_Der_Sperling_und_seine_vier_Ki.txt_en\n",
      "Skipping already translated file: /work/FrederiekeNicolaWullf#7811/Exam/nllb_translated/57_Der_goldene_Vogel.txt_en\n",
      "Skipping already translated file: /work/FrederiekeNicolaWullf#7811/Exam/nllb_translated/11_Brüderchen_und_Schwesterchen.txt_en\n",
      "Skipping already translated file: /work/FrederiekeNicolaWullf#7811/Exam/nllb_translated/163_Der_gläserne_Sarg.txt_en\n",
      "Skipping already translated file: /work/FrederiekeNicolaWullf#7811/Exam/nllb_translated/165_Der_Vogel_Greif.txt_en\n",
      "Skipping already translated file: /work/FrederiekeNicolaWullf#7811/Exam/nllb_translated/67_Die_zwölf_Jäger.txt_en\n",
      "Skipping already translated file: /work/FrederiekeNicolaWullf#7811/Exam/nllb_translated/102_Der_Zaunkönig_und_der_Bär.txt_en\n",
      "Skipping already translated file: /work/FrederiekeNicolaWullf#7811/Exam/nllb_translated/82_De_Spielhansl.txt_en\n",
      "Skipping already translated file: /work/FrederiekeNicolaWullf#7811/Exam/nllb_translated/145_Der_undankbare_Sohn.txt_en\n",
      "Skipping already translated file: /work/FrederiekeNicolaWullf#7811/Exam/nllb_translated/4_Mährchen_von_einem,_der_auszog.txt_en\n",
      "Skipping already translated file: /work/FrederiekeNicolaWullf#7811/Exam/nllb_translated/126_Ferenand_getrü_und_Ferenand_un.txt_en\n",
      "Skipping already translated file: /work/FrederiekeNicolaWullf#7811/Exam/nllb_translated/18_Strohhalm,_Kohle_und_Bohne.txt_en\n",
      "Skipping already translated file: /work/FrederiekeNicolaWullf#7811/Exam/nllb_translated/91_Dat_Erdmänneken.txt_en\n",
      "Skipping already translated file: /work/FrederiekeNicolaWullf#7811/Exam/nllb_translated/134_Die_sechs_Diener.txt_en\n",
      "Skipping already translated file: /work/FrederiekeNicolaWullf#7811/Exam/nllb_translated/53_Sneewittchen.txt_en\n",
      "Skipping already translated file: /work/FrederiekeNicolaWullf#7811/Exam/nllb_translated/140_Das_Hausgesinde.txt_en\n",
      "Skipping already translated file: /work/FrederiekeNicolaWullf#7811/Exam/nllb_translated/7_Muttergottesgläschen.txt_en\n",
      "Skipping already translated file: /work/FrederiekeNicolaWullf#7811/Exam/nllb_translated/3_Die_Rose.txt_en\n",
      "Skipping already translated file: /work/FrederiekeNicolaWullf#7811/Exam/nllb_translated/46_Fitchers_Vogel.txt_en\n",
      "Skipping already translated file: /work/FrederiekeNicolaWullf#7811/Exam/nllb_translated/180_Die_ungleichen_Kinder_Evas.txt_en\n",
      "Skipping already translated file: /work/FrederiekeNicolaWullf#7811/Exam/nllb_translated/2_Die_zwölf_Apostel.txt_en\n",
      "Skipping already translated file: /work/FrederiekeNicolaWullf#7811/Exam/nllb_translated/75_Der_Fuchs_und_die_Katze.txt_en\n",
      "Skipping already translated file: /work/FrederiekeNicolaWullf#7811/Exam/nllb_translated/128_Die_faule_Spinnerin.txt_en\n",
      "Skipping already translated file: /work/FrederiekeNicolaWullf#7811/Exam/nllb_translated/79_Die_Wassernixe.txt_en\n",
      "Skipping already translated file: /work/FrederiekeNicolaWullf#7811/Exam/nllb_translated/96_De_drei_Vügelkens.txt_en\n",
      "Skipping already translated file: /work/FrederiekeNicolaWullf#7811/Exam/nllb_translated/10_Das_Lumpengesindel.txt_en\n",
      "Skipping already translated file: /work/FrederiekeNicolaWullf#7811/Exam/nllb_translated/103_Der_süße_Brei.txt_en\n",
      "Skipping already translated file: /work/FrederiekeNicolaWullf#7811/Exam/nllb_translated/23_Von_dem_Mäuschen,_Vögelchen_un.txt_en\n",
      "Skipping already translated file: /work/FrederiekeNicolaWullf#7811/Exam/nllb_translated/99_Der_Geist_im_Glas.txt_en\n",
      "Skipping already translated file: /work/FrederiekeNicolaWullf#7811/Exam/nllb_translated/62_Die_Bienenkönigin.txt_en\n",
      "Skipping already translated file: /work/FrederiekeNicolaWullf#7811/Exam/nllb_translated/1_Der_heilige_Joseph_im_Walde.txt_en\n",
      "Skipping already translated file: /work/FrederiekeNicolaWullf#7811/Exam/nllb_translated/92_Der_König_vom_goldenen_Berg.txt_en\n",
      "Skipping already translated file: /work/FrederiekeNicolaWullf#7811/Exam/nllb_translated/77_Das_kluge_Grethel.txt_en\n",
      "Skipping already translated file: /work/FrederiekeNicolaWullf#7811/Exam/nllb_translated/136_Der_Eisenhans.txt_en\n",
      "Skipping already translated file: /work/FrederiekeNicolaWullf#7811/Exam/nllb_translated/166_Der_starke_Hans.txt_en\n",
      "Skipping already translated file: /work/FrederiekeNicolaWullf#7811/Exam/nllb_translated/178_Meister_Pfriem.txt_en\n",
      "Skipping already translated file: /work/FrederiekeNicolaWullf#7811/Exam/nllb_translated/194_Die_Kornähre.txt_en\n",
      "Skipping already translated file: /work/FrederiekeNicolaWullf#7811/Exam/nllb_translated/148_Des_Herrn_und_des_Teufels_Geth.txt_en\n",
      "Skipping already translated file: /work/FrederiekeNicolaWullf#7811/Exam/nllb_translated/5_Der_Wolf_und_die_sieben_jungen.txt_en\n",
      "Skipping already translated file: /work/FrederiekeNicolaWullf#7811/Exam/nllb_translated/90_Der_junge_Riese.txt_en\n",
      "Skipping already translated file: /work/FrederiekeNicolaWullf#7811/Exam/nllb_translated/121_Der_Königssohn_der_sich_vor_ni.txt_en\n",
      "Skipping already translated file: /work/FrederiekeNicolaWullf#7811/Exam/nllb_translated/179_Die_Gänsehirtin_am_Brunnen.txt_en\n",
      "Skipping already translated file: /work/FrederiekeNicolaWullf#7811/Exam/nllb_translated/131_Die_schöne_Katrinelje_und_Pif_.txt_en\n",
      "Translation completed: /work/FrederiekeNicolaWullf#7811/Exam/nllb_translated/83_Hans_im_Glück.txt_en\n",
      "Translation completed: /work/FrederiekeNicolaWullf#7811/Exam/nllb_translated/141_Das_Lämmchen_und_Fischchen.txt_en\n",
      "Translation completed: /work/FrederiekeNicolaWullf#7811/Exam/nllb_translated/192_Der_Meisterdieb.txt_en\n",
      "Translation completed: /work/FrederiekeNicolaWullf#7811/Exam/nllb_translated/60_Die_zwei_Brüder.txt_en\n",
      "Translation completed: /work/FrederiekeNicolaWullf#7811/Exam/nllb_translated/61_Das_Bürle.txt_en\n",
      "Translation completed: /work/FrederiekeNicolaWullf#7811/Exam/nllb_translated/158_Das_Märchen_vom_Schlauraffenla.txt_en\n",
      "Translation completed: /work/FrederiekeNicolaWullf#7811/Exam/nllb_translated/54_Der_Ranzen,_das_Hütlein_und_da.txt_en\n",
      "Translation completed: /work/FrederiekeNicolaWullf#7811/Exam/nllb_translated/162_Der_kluge_Knecht.txt_en\n",
      "Translation completed: /work/FrederiekeNicolaWullf#7811/Exam/nllb_translated/70_Die_drei_Glückskinder.txt_en\n",
      "Translation completed: /work/FrederiekeNicolaWullf#7811/Exam/nllb_translated/114_Vom_klugen_Schneiderlein.txt_en\n",
      "Translation completed: /work/FrederiekeNicolaWullf#7811/Exam/nllb_translated/68_De_Gaudeif_un_sien_Meester.txt_en\n",
      "Translation completed: /work/FrederiekeNicolaWullf#7811/Exam/nllb_translated/6_Der_treue_Johannes.txt_en\n",
      "Translation completed: /work/FrederiekeNicolaWullf#7811/Exam/nllb_translated/190_Die_Brosamen_auf_dem_Tisch.txt_en\n",
      "Translation completed: /work/FrederiekeNicolaWullf#7811/Exam/nllb_translated/110_Der_Jude_im_Dorn.txt_en\n",
      "Translation completed: /work/FrederiekeNicolaWullf#7811/Exam/nllb_translated/111_Der_gelernte_Jäger.txt_en\n",
      "Translation completed: /work/FrederiekeNicolaWullf#7811/Exam/nllb_translated/72_Der_Wolf_und_der_Mensch.txt_en\n",
      "Translation completed: /work/FrederiekeNicolaWullf#7811/Exam/nllb_translated/169_Das_Waldhaus.txt_en\n",
      "Translation completed: /work/FrederiekeNicolaWullf#7811/Exam/nllb_translated/186_Die_wahre_Braut.txt_en\n",
      "Translation completed: /work/FrederiekeNicolaWullf#7811/Exam/nllb_translated/100_Des_Teufels_rußiger_Bruder.txt_en\n",
      "Translation completed: /work/FrederiekeNicolaWullf#7811/Exam/nllb_translated/124_Die_drei_Brüder.txt_en\n",
      "Translation completed: /work/FrederiekeNicolaWullf#7811/Exam/nllb_translated/35_Der_Schneider_im_Himmel.txt_en\n",
      "Translation completed: /work/FrederiekeNicolaWullf#7811/Exam/nllb_translated/86_Der_Fuchs_und_die_Gänse.txt_en\n",
      "Translation completed: /work/FrederiekeNicolaWullf#7811/Exam/nllb_translated/151_Die_drei_Faulen.txt_en\n",
      "Translation completed: /work/FrederiekeNicolaWullf#7811/Exam/nllb_translated/78_Der_alte_Großvater_und_der_Enk.txt_en\n",
      "Translation completed: /work/FrederiekeNicolaWullf#7811/Exam/nllb_translated/137_De_drei_schwatten_Princessinne.txt_en\n",
      "Translation completed: /work/FrederiekeNicolaWullf#7811/Exam/nllb_translated/113_De_beiden_Künigeskinner.txt_en\n",
      "Translation completed: /work/FrederiekeNicolaWullf#7811/Exam/nllb_translated/3_Marienkind.txt_en\n",
      "Translation completed: /work/FrederiekeNicolaWullf#7811/Exam/nllb_translated/15_Hänsel_und_Grethel.txt_en\n",
      "Translation completed: /work/FrederiekeNicolaWullf#7811/Exam/nllb_translated/159_Das_Dietmarsische_Lügenmärchen.txt_en\n",
      "Translation completed: /work/FrederiekeNicolaWullf#7811/Exam/nllb_translated/89_Die_Gänsemagd.txt_en\n",
      "Translation completed: /work/FrederiekeNicolaWullf#7811/Exam/nllb_translated/139_Dat_Mäken_von_Brakel.txt_en\n",
      "Translation completed: /work/FrederiekeNicolaWullf#7811/Exam/nllb_translated/63_Die_drei_Federn.txt_en\n",
      "Translation completed: /work/FrederiekeNicolaWullf#7811/Exam/nllb_translated/20_Das_tapfere_Schneiderlein.txt_en\n",
      "Translation completed: /work/FrederiekeNicolaWullf#7811/Exam/nllb_translated/73_Der_Wolf_und_der_Fuchs.txt_en\n",
      "Translation completed: /work/FrederiekeNicolaWullf#7811/Exam/nllb_translated/39_Die_Wichtelmänner.txt_en\n",
      "Translation completed: /work/FrederiekeNicolaWullf#7811/Exam/nllb_translated/29_Der_Teufel_mit_den_drei_golden.txt_en\n",
      "Translation completed: /work/FrederiekeNicolaWullf#7811/Exam/nllb_translated/129_Die_vier_kunstreichen_Brüder.txt_en\n",
      "Translation completed: /work/FrederiekeNicolaWullf#7811/Exam/nllb_translated/133_Die_zertanzten_Schuhe.txt_en\n",
      "Translation completed: /work/FrederiekeNicolaWullf#7811/Exam/nllb_translated/38_Die_Hochzeit_der_Frau_Füchsin.txt_en\n",
      "Translation completed: /work/FrederiekeNicolaWullf#7811/Exam/nllb_translated/84_Hans_heirathet.txt_en\n",
      "Translation completed: /work/FrederiekeNicolaWullf#7811/Exam/nllb_translated/195_Der_Grabhügel.txt_en\n",
      "Translation completed: /work/FrederiekeNicolaWullf#7811/Exam/nllb_translated/122_Der_Krautesel.txt_en\n",
      "Translation completed: /work/FrederiekeNicolaWullf#7811/Exam/nllb_translated/108_Hans_mein_Jgel.txt_en\n",
      "Translation completed: /work/FrederiekeNicolaWullf#7811/Exam/nllb_translated/197_Die_Krystallkugel.txt_en\n",
      "Translation completed: /work/FrederiekeNicolaWullf#7811/Exam/nllb_translated/175_Der_Mond.txt_en\n",
      "Translation completed: /work/FrederiekeNicolaWullf#7811/Exam/nllb_translated/7_Der_gute_Handel.txt_en\n",
      "Translation completed: /work/FrederiekeNicolaWullf#7811/Exam/nllb_translated/117_Das_eigensinnige_Kind.txt_en\n",
      "Translation completed: /work/FrederiekeNicolaWullf#7811/Exam/nllb_translated/17_Die_weiße_Schlange.txt_en\n",
      "Translation completed: /work/FrederiekeNicolaWullf#7811/Exam/nllb_translated/94_Die_kluge_Bauerntochter.txt_en\n",
      "Translation completed: /work/FrederiekeNicolaWullf#7811/Exam/nllb_translated/66_Häsichenbraut.txt_en\n",
      "Translation completed: /work/FrederiekeNicolaWullf#7811/Exam/nllb_translated/12_Rapunzel.txt_en\n",
      "Translation completed: /work/FrederiekeNicolaWullf#7811/Exam/nllb_translated/28_Der_singende_Knochen.txt_en\n",
      "Translation completed: /work/FrederiekeNicolaWullf#7811/Exam/nllb_translated/16_Die_drei_Schlangenblätter.txt_en\n",
      "Translation completed: /work/FrederiekeNicolaWullf#7811/Exam/nllb_translated/98_Doctor_Allwissend.txt_en\n",
      "Translation completed: /work/FrederiekeNicolaWullf#7811/Exam/nllb_translated/69_Jorinde_und_Joringel.txt_en\n",
      "Translation completed: /work/FrederiekeNicolaWullf#7811/Exam/nllb_translated/93_Die_Rabe.txt_en\n",
      "Translation completed: /work/FrederiekeNicolaWullf#7811/Exam/nllb_translated/120_Die_drei_Handwerksburschen.txt_en\n",
      "Translation completed: /work/FrederiekeNicolaWullf#7811/Exam/nllb_translated/160_Räthselmärchen.txt_en\n",
      "Translation completed: /work/FrederiekeNicolaWullf#7811/Exam/nllb_translated/30_Läuschen_und_Flöhchen.txt_en\n",
      "Translation completed: /work/FrederiekeNicolaWullf#7811/Exam/nllb_translated/168_Die_hagere_Liese.txt_en\n",
      "Translation completed: /work/FrederiekeNicolaWullf#7811/Exam/nllb_translated/13_Die_drei_Männlein_im_Walde.txt_en\n",
      "Translation completed: /work/FrederiekeNicolaWullf#7811/Exam/nllb_translated/85_Die_Goldkinder.txt_en\n",
      "Translation completed: /work/FrederiekeNicolaWullf#7811/Exam/nllb_translated/119_Die_sieben_Schwaben.txt_en\n",
      "Translation completed: /work/FrederiekeNicolaWullf#7811/Exam/nllb_translated/173_Rohrdommel_und_Wiedehopf.txt_en\n",
      "Translation completed: /work/FrederiekeNicolaWullf#7811/Exam/nllb_translated/76_Die_Nelke.txt_en\n",
      "Translation completed: /work/FrederiekeNicolaWullf#7811/Exam/nllb_translated/101_Der_Bärenhäuter.txt_en\n",
      "Translation completed: /work/FrederiekeNicolaWullf#7811/Exam/nllb_translated/95_Der_alte_Hildebrand.txt_en\n",
      "Translation completed: /work/FrederiekeNicolaWullf#7811/Exam/nllb_translated/74_Der_Fuchs_und_die_Frau_Gevatte.txt_en\n"
     ]
    }
   ],
   "source": [
    "import os\n",
    "from transformers import AutoTokenizer, AutoModelForSeq2SeqLM\n",
    "\n",
    "input_dir = \"/work/Exam/german_tales/\" \n",
    "output_dir = \"/work/Exam/nllb_translated/\"\n",
    "\n",
    "model_name = \"facebook/nllb-200-3.3B\"\n",
    "tokenizer = AutoTokenizer.from_pretrained(model_name)\n",
    "model = AutoModelForSeq2SeqLM.from_pretrained(model_name)\n",
    "\n",
    "source_lang = \"deu_Latn\"\n",
    "target_lang = \"eng_Latn\"\n",
    "\n",
    "forced_bos_token_id = tokenizer.convert_tokens_to_ids(target_lang)\n",
    "\n",
    "# Translate sentence by sentence\n",
    "def translate_text(text, tokenizer, model, forced_bos_token_id):\n",
    "    sentences = text.split(\". \")\n",
    "    translations = []\n",
    "    \n",
    "    for sentence in sentences:\n",
    "        inputs = tokenizer(sentence, return_tensors=\"pt\", padding=True, truncation=True)\n",
    "        outputs = model.generate(**inputs, forced_bos_token_id=forced_bos_token_id, max_length=150)\n",
    "        translated_sentence = tokenizer.decode(outputs[0], skip_special_tokens=True)\n",
    "        translations.append(translated_sentence)\n",
    "    \n",
    "    return \". \".join(translations)  # Recombine sentences into a single text\n",
    "\n",
    "os.makedirs(output_dir, exist_ok=True)\n",
    "\n",
    "for filename in os.listdir(input_dir):\n",
    "    if filename.endswith(\".txt\"):\n",
    "        input_file = os.path.join(input_dir, filename)\n",
    "        output_file = os.path.join(output_dir, f\"{filename}_en\")\n",
    "\n",
    "        if os.path.exists(output_file):\n",
    "            print(f\"Skipping already translated file: {output_file}\")\n",
    "            continue\n",
    "\n",
    "        with open(input_file, \"r\", encoding=\"utf-8\") as file:\n",
    "            text = file.read()\n",
    "\n",
    "        translated_text = translate_text(text, tokenizer, model, forced_bos_token_id)\n",
    "\n",
    "        with open(output_file, \"w\", encoding=\"utf-8\") as file:\n",
    "            file.write(translated_text)\n",
    "\n",
    "        print(f\"Translation completed: {output_file}\")\n"
   ]
  }
 ],
 "metadata": {
  "kernelspec": {
   "display_name": "Python 3",
   "language": "python",
   "name": "python3"
  },
  "language_info": {
   "codemirror_mode": {
    "name": "ipython",
    "version": 3
   },
   "file_extension": ".py",
   "mimetype": "text/x-python",
   "name": "python",
   "nbconvert_exporter": "python",
   "pygments_lexer": "ipython3",
   "version": "3.12.3"
  }
 },
 "nbformat": 4,
 "nbformat_minor": 2
}
