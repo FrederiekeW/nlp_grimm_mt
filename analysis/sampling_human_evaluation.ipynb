{
 "cells": [
  {
   "cell_type": "code",
   "execution_count": 2,
   "metadata": {},
   "outputs": [
    {
     "name": "stdout",
     "output_type": "stream",
     "text": [
      "Defaulting to user installation because normal site-packages is not writeable\n",
      "Collecting pandas\n",
      "  Downloading pandas-2.2.3-cp312-cp312-manylinux_2_17_x86_64.manylinux2014_x86_64.whl.metadata (89 kB)\n",
      "Collecting numpy>=1.26.0 (from pandas)\n",
      "  Downloading numpy-2.2.0-cp312-cp312-manylinux_2_17_x86_64.manylinux2014_x86_64.whl.metadata (62 kB)\n",
      "Requirement already satisfied: python-dateutil>=2.8.2 in /home/ucloud/.local/lib/python3.12/site-packages (from pandas) (2.9.0.post0)\n",
      "Collecting pytz>=2020.1 (from pandas)\n",
      "  Downloading pytz-2024.2-py2.py3-none-any.whl.metadata (22 kB)\n",
      "Collecting tzdata>=2022.7 (from pandas)\n",
      "  Downloading tzdata-2024.2-py2.py3-none-any.whl.metadata (1.4 kB)\n",
      "Requirement already satisfied: six>=1.5 in /usr/lib/python3/dist-packages (from python-dateutil>=2.8.2->pandas) (1.16.0)\n",
      "Downloading pandas-2.2.3-cp312-cp312-manylinux_2_17_x86_64.manylinux2014_x86_64.whl (12.7 MB)\n",
      "\u001b[2K   \u001b[90m━━━━━━━━━━━━━━━━━━━━━━━━━━━━━━━━━━━━━━━━\u001b[0m \u001b[32m12.7/12.7 MB\u001b[0m \u001b[31m46.7 MB/s\u001b[0m eta \u001b[36m0:00:00\u001b[0m:00:01\u001b[0m\n",
      "\u001b[?25hDownloading numpy-2.2.0-cp312-cp312-manylinux_2_17_x86_64.manylinux2014_x86_64.whl (16.1 MB)\n",
      "\u001b[2K   \u001b[90m━━━━━━━━━━━━━━━━━━━━━━━━━━━━━━━━━━━━━━━━\u001b[0m \u001b[32m16.1/16.1 MB\u001b[0m \u001b[31m45.4 MB/s\u001b[0m eta \u001b[36m0:00:00\u001b[0m:00:01\u001b[0m\n",
      "\u001b[?25hDownloading pytz-2024.2-py2.py3-none-any.whl (508 kB)\n",
      "Downloading tzdata-2024.2-py2.py3-none-any.whl (346 kB)\n",
      "Installing collected packages: pytz, tzdata, numpy, pandas\n",
      "Successfully installed numpy-2.2.0 pandas-2.2.3 pytz-2024.2 tzdata-2024.2\n",
      "Defaulting to user installation because normal site-packages is not writeable\n",
      "Requirement already satisfied: numpy in /home/ucloud/.local/lib/python3.12/site-packages (2.2.0)\n"
     ]
    }
   ],
   "source": [
    "!pip install pandas\n",
    "!pip install numpy"
   ]
  },
  {
   "cell_type": "code",
   "execution_count": 11,
   "metadata": {},
   "outputs": [
    {
     "name": "stdout",
     "output_type": "stream",
     "text": [
      "Blind Sampled Fairytales for Human Evaluation:\n",
      "                                     File\n",
      "0           96_the_three_little_birds.txt\n",
      "1            40_the_robber_bridegroom.txt\n",
      "2      2_Cat_and_Mouse_in_Partnership.txt\n",
      "3                  103_sweet_porridge.txt\n",
      "4              124_the_three_brothers.txt\n",
      "5         99_The_Spirit_in_the_Bottle.txt\n",
      "6   92_the_king_of_the_golden_mountai.txt\n",
      "7  133_The_Shoes_That_Were_Danced_to_.txt\n"
     ]
    },
    {
     "name": "stderr",
     "output_type": "stream",
     "text": [
      "/tmp/ipykernel_467/868853528.py:18: FutureWarning: The default of observed=False is deprecated and will be changed to True in a future version of pandas. Pass observed=False to retain current behavior or observed=True to adopt the future default and silence this warning.\n",
      "  sampled_data = data.groupby('Quartile', group_keys=False).apply(lambda x: x.sample(2, random_state=42))\n",
      "/tmp/ipykernel_467/868853528.py:18: DeprecationWarning: DataFrameGroupBy.apply operated on the grouping columns. This behavior is deprecated, and in a future version of pandas the grouping columns will be excluded from the operation. Either pass `include_groups=False` to exclude the groupings or explicitly select the grouping columns after groupby to silence this warning.\n",
      "  sampled_data = data.groupby('Quartile', group_keys=False).apply(lambda x: x.sample(2, random_state=42))\n"
     ]
    }
   ],
   "source": [
    "import pandas as pd\n",
    "import numpy as np\n",
    "\n",
    "# Load the CSV file\n",
    "file_path = \"/work/Exam/Scores/bert_nllb_mh.csv\"\n",
    "output_path = \"/work/Exam/llama_nllb_mh.csv\"\n",
    "\n",
    "\n",
    "data = pd.read_csv(file_path)\n",
    "# Ensure F1 Score is numeric (remove brackets and convert to float), issues with that\n",
    "data['F1 Score'] = data['F1 Score'].str.strip(\"[]\").astype(float)\n",
    "data['Quartile'] = pd.qcut(data['F1 Score'], 4, labels=['Q1', 'Q2', 'Q3', 'Q4'])\n",
    "\n",
    "# Randomly sample 2 fairytales\n",
    "sampled_data = data.groupby('Quartile', group_keys=False).apply(lambda x: x.sample(2, random_state=42))\n",
    "\n",
    "# blind the evaluation --> shufflin'\n",
    "blind_data = sampled_data[['File']].sample(frac=1, random_state=42).reset_index(drop=True)\n",
    "\n",
    "# Save csv\n",
    "blind_data.to_csv(output_path, index=False)\n",
    "\n",
    "# Also print for good measure\n",
    "print(\"Blind Sampled Fairytales for Human Evaluation:\")\n",
    "print(blind_data)\n",
    "\n"
   ]
  },
  {
   "cell_type": "code",
   "execution_count": 10,
   "metadata": {},
   "outputs": [
    {
     "name": "stdout",
     "output_type": "stream",
     "text": [
      "Blind Sampled Fairytales for Human Evaluation:\n",
      "                                           File\n",
      "0               30_L_uschen_und_Fl_hchen_en.txt\n",
      "1         100_Des_Teufels_ru_iger_Bruder_en.txt\n",
      "2          13_Die_drei_M_nnlein_im_Walde_en.txt\n",
      "3              117_Das_eigensinnige_Kind_en.txt\n",
      "4           114_Vom_klugen_Schneiderlein_en.txt\n",
      "5       38_Die_Hochzeit_der_Frau_F_chsin_en.txt\n",
      "6                134_Die_sechs_Diener_en(1).txt\n",
      "7  115_Die_klare_Sonne_bringts_an_den_en(1).txt\n"
     ]
    },
    {
     "name": "stderr",
     "output_type": "stream",
     "text": [
      "/tmp/ipykernel_467/275895618.py:18: FutureWarning: The default of observed=False is deprecated and will be changed to True in a future version of pandas. Pass observed=False to retain current behavior or observed=True to adopt the future default and silence this warning.\n",
      "  sampled_data = data.groupby('Quartile', group_keys=False).apply(lambda x: x.sample(2, random_state=42))\n",
      "/tmp/ipykernel_467/275895618.py:18: DeprecationWarning: DataFrameGroupBy.apply operated on the grouping columns. This behavior is deprecated, and in a future version of pandas the grouping columns will be excluded from the operation. Either pass `include_groups=False` to exclude the groupings or explicitly select the grouping columns after groupby to silence this warning.\n",
      "  sampled_data = data.groupby('Quartile', group_keys=False).apply(lambda x: x.sample(2, random_state=42))\n"
     ]
    }
   ],
   "source": [
    "import pandas as pd\n",
    "import numpy as np\n",
    "\n",
    "# Load the CSV file\n",
    "file_path = \"/work/Exam/Scores/bert_llama_mh.csv\"\n",
    "output_path = \"/work/Exam/llama_llama_mh.csv\"\n",
    "\n",
    "\n",
    "data = pd.read_csv(file_path)\n",
    "# Ensure F1 Score is numeric (remove brackets and convert to float), issues with that\n",
    "data['F1 Score'] = data['F1 Score'].str.strip(\"[]\").astype(float)\n",
    "data['Quartile'] = pd.qcut(data['F1 Score'], 4, labels=['Q1', 'Q2', 'Q3', 'Q4'])\n",
    "\n",
    "# Randomly sample 2 fairytales\n",
    "sampled_data = data.groupby('Quartile', group_keys=False).apply(lambda x: x.sample(2, random_state=42))\n",
    "\n",
    "# blind the evaluation --> shufflin'\n",
    "blind_data = sampled_data[['File']].sample(frac=1, random_state=42).reset_index(drop=True)\n",
    "\n",
    "# Save csv\n",
    "blind_data.to_csv(output_path, index=False)\n",
    "\n",
    "# Also print for good measure\n",
    "print(\"Blind Sampled Fairytales for Human Evaluation:\")\n",
    "print(blind_data)\n"
   ]
  }
 ],
 "metadata": {
  "kernelspec": {
   "display_name": "Python 3",
   "language": "python",
   "name": "python3"
  },
  "language_info": {
   "codemirror_mode": {
    "name": "ipython",
    "version": 3
   },
   "file_extension": ".py",
   "mimetype": "text/x-python",
   "name": "python",
   "nbconvert_exporter": "python",
   "pygments_lexer": "ipython3",
   "version": "3.12.3"
  }
 },
 "nbformat": 4,
 "nbformat_minor": 2
}
